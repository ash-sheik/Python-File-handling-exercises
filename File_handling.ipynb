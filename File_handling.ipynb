{
 "cells": [
  {
   "cell_type": "code",
   "execution_count": 1,
   "id": "5526a9de-6ad9-4987-8125-26d6f1345651",
   "metadata": {},
   "outputs": [
    {
     "name": "stdin",
     "output_type": "stream",
     "text": [
      "Enter the filename to read:  5111\n"
     ]
    },
    {
     "name": "stdout",
     "output_type": "stream",
     "text": [
      "Error: The file does not exist.\n"
     ]
    }
   ],
   "source": [
    "# Exercise 1\n",
    "file_name = input(\"Enter the filename to read: \")\n",
    "\n",
    "try:\n",
    "    with open(file_name, 'r') as file:\n",
    "        content = file.read()\n",
    "        print(\"\\nFile Contents:\\n\")\n",
    "        print(content)\n",
    "except FileNotFoundError:\n",
    "    print(\"Error: The file does not exist.\")\n"
   ]
  },
  {
   "cell_type": "code",
   "execution_count": 3,
   "id": "1b80dec7-9627-407f-b4e7-73fbb074cfc1",
   "metadata": {},
   "outputs": [
    {
     "name": "stdin",
     "output_type": "stream",
     "text": [
      "Enter the source filename:  asc\n",
      "Enter the destination filename:  ejdfh\n"
     ]
    },
    {
     "name": "stdout",
     "output_type": "stream",
     "text": [
      "Error: Source file not found.\n"
     ]
    }
   ],
   "source": [
    "# Exercise 2\n",
    "source_file = input(\"Enter the source filename: \")\n",
    "destination_file = input(\"Enter the destination filename: \")\n",
    "\n",
    "try:\n",
    "    with open(source_file, 'r') as src:\n",
    "        content = src.read()\n",
    "    with open(destination_file, 'w') as dest:\n",
    "        dest.write(content)\n",
    "    print(\"File copied successfully.\")\n",
    "except FileNotFoundError:\n",
    "    print(\"Error: Source file not found.\")\n"
   ]
  },
  {
   "cell_type": "code",
   "execution_count": 4,
   "id": "1f17c877-2b9a-4250-ae13-9ca31c8f6d8c",
   "metadata": {},
   "outputs": [
    {
     "name": "stdin",
     "output_type": "stream",
     "text": [
      "Enter the filename:  jf\n"
     ]
    },
    {
     "name": "stdout",
     "output_type": "stream",
     "text": [
      "Error: File not found.\n"
     ]
    }
   ],
   "source": [
    "# Exercise 3\n",
    "file_name = input(\"Enter the filename: \")\n",
    "\n",
    "try:\n",
    "    with open(file_name, 'r') as file:\n",
    "        content = file.read()\n",
    "        words = content.split()\n",
    "        print(f\"Total number of words: {len(words)}\")\n",
    "except FileNotFoundError:\n",
    "    print(\"Error: File not found.\")\n"
   ]
  },
  {
   "cell_type": "code",
   "execution_count": 5,
   "id": "0de5d35b-a651-4f42-82fb-c2e5c28a7add",
   "metadata": {},
   "outputs": [
    {
     "name": "stdin",
     "output_type": "stream",
     "text": [
      "Enter a number:  \n"
     ]
    },
    {
     "name": "stdout",
     "output_type": "stream",
     "text": [
      "Error: Input is not a valid integer.\n"
     ]
    }
   ],
   "source": [
    "# Exercise 4\n",
    "try:\n",
    "    user_input = input(\"Enter a number: \")\n",
    "    number = int(user_input)\n",
    "    print(f\"You entered the integer: {number}\")\n",
    "except ValueError:\n",
    "    print(\"Error: Input is not a valid integer.\")\n"
   ]
  },
  {
   "cell_type": "code",
   "execution_count": 6,
   "id": "773632a7-4c8c-4042-8ac8-8f95a54bdd43",
   "metadata": {},
   "outputs": [
    {
     "name": "stdin",
     "output_type": "stream",
     "text": [
      "Enter a list of integers separated by space:  \n"
     ]
    },
    {
     "name": "stdout",
     "output_type": "stream",
     "text": [
      "All numbers are valid (non-negative).\n"
     ]
    }
   ],
   "source": [
    "# Exercise 5\n",
    "try:\n",
    "    numbers = list(map(int, input(\"Enter a list of integers separated by space: \").split()))\n",
    "    for num in numbers:\n",
    "        if num < 0:\n",
    "            raise ValueError(\"Negative numbers are not allowed.\")\n",
    "    print(\"All numbers are valid (non-negative).\")\n",
    "except ValueError as e:\n",
    "    print(f\"Error: {e}\")\n"
   ]
  },
  {
   "cell_type": "code",
   "execution_count": 7,
   "id": "581b5f61-63a9-46d6-9862-c2986b83222b",
   "metadata": {},
   "outputs": [
    {
     "name": "stdin",
     "output_type": "stream",
     "text": [
      "Enter a list of integers separated by space:  \n"
     ]
    },
    {
     "name": "stdout",
     "output_type": "stream",
     "text": [
      "Error: Cannot compute average of an empty list.\n",
      "Program has finished running.\n"
     ]
    }
   ],
   "source": [
    "# Exercise 6\n",
    "try:\n",
    "    numbers = list(map(int, input(\"Enter a list of integers separated by space: \").split()))\n",
    "    average = sum(numbers) / len(numbers)\n",
    "    print(f\"The average is: {average}\")\n",
    "except ValueError:\n",
    "    print(\"Error: Please enter only integers.\")\n",
    "except ZeroDivisionError:\n",
    "    print(\"Error: Cannot compute average of an empty list.\")\n",
    "finally:\n",
    "    print(\"Program has finished running.\")\n"
   ]
  },
  {
   "cell_type": "code",
   "execution_count": 8,
   "id": "4dd2efa0-6919-4cbf-b4e3-1b4caaac3e52",
   "metadata": {},
   "outputs": [
    {
     "name": "stdin",
     "output_type": "stream",
     "text": [
      "Enter the filename to write to:  86\n",
      "Enter the text to write into the file:  22\n"
     ]
    },
    {
     "name": "stdout",
     "output_type": "stream",
     "text": [
      "Welcome! Text written successfully.\n"
     ]
    }
   ],
   "source": [
    "# Exercise 7\n",
    "filename = input(\"Enter the filename to write to: \")\n",
    "\n",
    "try:\n",
    "    text = input(\"Enter the text to write into the file: \")\n",
    "    with open(filename, 'w') as file:\n",
    "        file.write(text)\n",
    "    print(\"Welcome! Text written successfully.\")\n",
    "except Exception as e:\n",
    "    print(f\"An error occurred: {e}\")\n"
   ]
  },
  {
   "cell_type": "code",
   "execution_count": null,
   "id": "cfedccfa-7c0e-40a1-9579-06de69de404c",
   "metadata": {},
   "outputs": [],
   "source": []
  }
 ],
 "metadata": {
  "kernelspec": {
   "display_name": "Python [conda env:base] *",
   "language": "python",
   "name": "conda-base-py"
  },
  "language_info": {
   "codemirror_mode": {
    "name": "ipython",
    "version": 3
   },
   "file_extension": ".py",
   "mimetype": "text/x-python",
   "name": "python",
   "nbconvert_exporter": "python",
   "pygments_lexer": "ipython3",
   "version": "3.13.5"
  }
 },
 "nbformat": 4,
 "nbformat_minor": 5
}
